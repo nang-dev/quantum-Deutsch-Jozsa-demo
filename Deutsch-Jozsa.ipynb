{
 "cells": [
  {
   "cell_type": "code",
   "execution_count": 2,
   "metadata": {},
   "outputs": [],
   "source": [
    "#IMPORTS\n",
    "import qiskit\n",
    "from qiskit import *\n",
    "import matplotlib as mpl\n",
    "from random import choice, randint \n",
    "from qiskit.tools.monitor import job_monitor\n",
    "import qiskit_ibm_provider\n"
   ]
  },
  {
   "cell_type": "code",
   "execution_count": 4,
   "metadata": {},
   "outputs": [],
   "source": [
    "IBMQ.save_account('YOUR_IBMQ_KEY', overwrite=True)"
   ]
  },
  {
   "cell_type": "code",
   "execution_count": 11,
   "metadata": {},
   "outputs": [],
   "source": [
    "def Oracle(circuit,n):     #begin our function\n",
    "\n",
    "    oracle_type = choice(['Constant0','Constant1','Balanced'])\n",
    "    \n",
    "    circuit.barrier()\n",
    "\n",
    "    if oracle_type == 'Balanced':\n",
    "\n",
    "        #randomly flip qubits for 0 and 1 groups\n",
    "        flipGates = randint(0,(2**n)-1)    #random binary num between 0 and 7\n",
    "        flipGates = format(flipGates, '0'+str(n)+'b') #convert to binary string\n",
    "\n",
    "        for qbit in range(0,len(flipGates)):   #iterate through flipGates\n",
    "            if flipGates[qbit] == '1':\n",
    "                circuit.x(qbit)     #flip qubit if necessary\n",
    "\n",
    "        for qbit in range(0,n):    #CX Gate controlled on every query qubit\n",
    "            circuit.cx(qbit,n)   #and targeting auxiliary qubit\n",
    "\n",
    "        for qbit in range(0,len(flipGates)):   #unflip qubits so output reveals nothing except\n",
    "            if flipGates[qbit] == '1':         #what the original input was\n",
    "                circuit.x(qbit)\n",
    "\n",
    "\n",
    "    elif oracle_type == 'Constant0':\n",
    "        circuit.z(n)    #flip Auxiliary\n",
    "    elif oracle_type == 'Constant1':\n",
    "        pass\n",
    "\n",
    "    circuit.barrier()\n",
    "    return circuit, oracle_type"
   ]
  },
  {
   "cell_type": "code",
   "execution_count": 12,
   "metadata": {},
   "outputs": [
    {
     "data": {
      "text/plain": [
       "<qiskit.circuit.instructionset.InstructionSet at 0x7fc21833baf0>"
      ]
     },
     "execution_count": 12,
     "metadata": {},
     "output_type": "execute_result"
    }
   ],
   "source": [
    "#input\n",
    "n = 3    #the size of our Query, NOT including the Auxiliary\n",
    "circuit = qiskit.QuantumCircuit(n+1,n+1)   #create circuit including Auxiliary qubit & bit\n",
    "\n",
    "for i in range(0,n):    #place Query in superposition\n",
    "    circuit.h(i)\n",
    "\n",
    "circuit.x(n)    #flip Auxiliary\n",
    "circuit.h(n)    #put into |-> state as preparation for Phase Kickback\n"
   ]
  },
  {
   "cell_type": "code",
   "execution_count": 13,
   "metadata": {},
   "outputs": [],
   "source": [
    "#oracle\n",
    "circuit, oracle_type = Oracle(circuit,n)\n"
   ]
  },
  {
   "cell_type": "code",
   "execution_count": 14,
   "metadata": {
    "scrolled": true
   },
   "outputs": [
    {
     "data": {
      "image/png": "[encoded data removed]",
      "text/plain": [
       "<Figure size 1290.83x451.5 with 1 Axes>"
      ]
     },
     "execution_count": 14,
     "metadata": {},
     "output_type": "execute_result"
    }
   ],
   "source": [
    "#output\n",
    "for qbit in range(0,n+1):\n",
    "    circuit.h(qbit)    #apply Hadamard to each qubit\n",
    "    circuit.measure(qbit,qbit)    #measure qubit onto respective bit\n",
    "\n",
    "circuit.draw('mpl')"
   ]
  },
  {
   "cell_type": "code",
   "execution_count": 15,
   "metadata": {},
   "outputs": [],
   "source": [
    "#simulation\n",
    "simulator = qiskit.BasicAer.get_backend('qasm_simulator')\n",
    "job = qiskit.execute(circuit, simulator, shots=1, memory=True)\n",
    "result = job.result()\n",
    "measurements = result.get_memory()[0]   #e.g '0000'"
   ]
  },
  {
   "cell_type": "code",
   "execution_count": 16,
   "metadata": {},
   "outputs": [
    {
     "name": "stdout",
     "output_type": "stream",
     "text": [
      "Prediction:\n",
      "Balanced\n",
      "\n",
      "Truth:\n",
      "Balanced\n",
      "\n",
      "Answer is Correct!\n"
     ]
    }
   ],
   "source": [
    "#Final Answer\n",
    "query_state = measurements[-1]\n",
    "if query_state == '1':\n",
    "    guess = 'Balanced'\n",
    "else:   #constant query\n",
    "    aux_output = measurements[0]\n",
    "    if aux_output == '1':\n",
    "        guess = 'Constant1'\n",
    "    else:\n",
    "        guess = 'Constant0'\n",
    "        \n",
    "print('Prediction:')\n",
    "print(guess)\n",
    "print(\"\")\n",
    "print('Truth:')\n",
    "print(oracle_type)\n",
    "\n",
    "print(\"\")\n",
    "if guess == oracle_type:\n",
    "    print(\"Answer is Correct!\")"
   ]
  },
  {
   "cell_type": "code",
   "execution_count": 20,
   "metadata": {},
   "outputs": [],
   "source": [
    "IBMQ.load_account()  \n",
    "provider = IBMQ.get_provider(hub = 'ibm-q')\n",
    "device = provider.get_backend('ibmq_quito')"
   ]
  },
  {
   "cell_type": "code",
   "execution_count": 21,
   "metadata": {},
   "outputs": [],
   "source": [
    "job = execute(circuit,backend = device,shots = 100)\n"
   ]
  },
  {
   "cell_type": "code",
   "execution_count": 22,
   "metadata": {},
   "outputs": [
    {
     "name": "stdout",
     "output_type": "stream",
     "text": [
      "ci72rgg7s2lildo53iq0\n"
     ]
    },
    {
     "data": {
      "text/plain": [
       "<JobStatus.QUEUED: 'job is queued'>"
      ]
     },
     "execution_count": 22,
     "metadata": {},
     "output_type": "execute_result"
    }
   ],
   "source": [
    "print(job.job_id())\n",
    "job.status()"
   ]
  },
  {
   "cell_type": "code",
   "execution_count": null,
   "metadata": {},
   "outputs": [],
   "source": [
    "result = job.result()\n"
   ]
  },
  {
   "cell_type": "code",
   "execution_count": null,
   "metadata": {},
   "outputs": [],
   "source": [
    "plot_histogram(result.get_counts(circuit))"
   ]
  }
 ],
 "metadata": {
  "kernelspec": {
   "display_name": "Python 3 (ipykernel)",
   "language": "python",
   "name": "python3"
  },
  "language_info": {
   "codemirror_mode": {
    "name": "ipython",
    "version": 3
   },
   "file_extension": ".py",
   "mimetype": "text/x-python",
   "name": "python",
   "nbconvert_exporter": "python",
   "pygments_lexer": "ipython3",
   "version": "3.9.13"
  }
 },
 "nbformat": 4,
 "nbformat_minor": 2
}
